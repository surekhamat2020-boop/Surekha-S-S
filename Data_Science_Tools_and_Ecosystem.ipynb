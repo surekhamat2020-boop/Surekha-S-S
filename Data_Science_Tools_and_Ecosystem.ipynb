{
  "metadata": {
    "kernelspec": {
      "name": "python",
      "display_name": "Python (Pyodide)",
      "language": "python"
    },
    "language_info": {
      "codemirror_mode": {
        "name": "python",
        "version": 3
      },
      "file_extension": ".py",
      "mimetype": "text/x-python",
      "name": "python",
      "nbconvert_exporter": "python",
      "pygments_lexer": "ipython3",
      "version": "3.8"
    }
  },
  "nbformat_minor": 4,
  "nbformat": 4,
  "cells": [
    {
      "cell_type": "markdown",
      "source": "# Data Science Tools and Ecosystem",
      "metadata": {}
    },
    {
      "cell_type": "markdown",
      "source": "## Introduction\nIn this notebook, we will summarise some of the key tools, languages and libraries used in Data Science.",
      "metadata": {}
    },
    {
      "cell_type": "markdown",
      "source": "## Languages in Data Science\n1.Python <br>\n2.R <br>\n3.SQL <br>\n4.Julia <br>\n5.Scala",
      "metadata": {}
    },
    {
      "cell_type": "markdown",
      "source": "## Commonly Used Libraries in Data Science\n1. NumPy <br>\n2. Pandas <br>\n3. Matplotlib <br>\n4. Scikit-learn <br>\n5. TensorFlow <br>\n6. PyTorch",
      "metadata": {}
    },
    {
      "cell_type": "markdown",
      "source": "## Data Science Tools\n\n| Category | Tools |\n|-----------|-----------------------------|\n| Data Analysis | Pandas, NumPy |\n| Data Visualization | Matplotlib, Seaborn, Tableau |\n| Machine Learning | Scikit-learn, TensorFlow, PyTorch |\n| Big Data Processing | Apache Spark, Hadoop |\n| Development Environment | Jupyter Notebook, RStudio |\n",
      "metadata": {}
    },
    {
      "cell_type": "markdown",
      "source": "## Arithmetic Expression Examples\n\nBelow are examples of simple arithmetic operations using Python.\n",
      "metadata": {}
    },
    {
      "cell_type": "code",
      "source": "# This code multiplies and adds numbers\n(3 * 4) + 5\n",
      "metadata": {
        "trusted": true
      },
      "outputs": [
        {
          "execution_count": 2,
          "output_type": "execute_result",
          "data": {
            "text/plain": "17"
          },
          "metadata": {}
        }
      ],
      "execution_count": 2
    },
    {
      "cell_type": "code",
      "source": "# This will convert minutes to hours\nminutes = 150\nhours = minutes / 60\nhours\n",
      "metadata": {
        "trusted": true
      },
      "outputs": [
        {
          "execution_count": 3,
          "output_type": "execute_result",
          "data": {
            "text/plain": "2.5"
          },
          "metadata": {}
        }
      ],
      "execution_count": 3
    },
    {
      "cell_type": "markdown",
      "source": "## Objectives\n\n- List popular languages for Data Science  \n- List commonly used libraries in Data Science  \n- Create tables using Markdown  \n- Perform basic arithmetic operations using Python  \n- Convert time units using Python\n",
      "metadata": {}
    },
    {
      "cell_type": "markdown",
      "source": "## Author\n\n**SUREKHA S S**\n",
      "metadata": {}
    },
    {
      "cell_type": "code",
      "source": "",
      "metadata": {
        "trusted": true
      },
      "outputs": [],
      "execution_count": null
    }
  ]
}